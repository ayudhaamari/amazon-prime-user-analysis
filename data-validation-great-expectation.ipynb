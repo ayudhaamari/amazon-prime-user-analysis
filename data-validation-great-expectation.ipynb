{
 "cells": [
  {
   "cell_type": "markdown",
   "metadata": {},
   "source": [
    "# Great Expectation Validation  \n",
    "\n",
    "---\n",
    "\n",
    "Author: Ayudha Amari Hirtranusi  \n",
    "\n",
    "Objective : This notebook demonstrates the use of `Great Expectations` to validate and ensure the quality of the **Amazon Prime userbase dataset**. Here, we will create a suite of expectations for the dataset and validate the data against these expectations.\n",
    "\n",
    "---"
   ]
  },
  {
   "cell_type": "markdown",
   "metadata": {},
   "source": [
    "## Import Libraries"
   ]
  },
  {
   "cell_type": "markdown",
   "metadata": {},
   "source": [
    "In this section, the necessary libraries for working with Great Expectations are imported. The `great_expectations` library is imported as `gx`, which provides the core functionality for defining and validating expectations on the dataset. Additionally, the `FileDataContext` class is imported from `great_expectations.data_context`, which allows for the creation and management of the Great Expectations context."
   ]
  },
  {
   "cell_type": "code",
   "execution_count": 1,
   "metadata": {},
   "outputs": [],
   "source": [
    "# Importing the necessary libraries\n",
    "import great_expectations as gx\n",
    "from great_expectations.data_context import FileDataContext"
   ]
  },
  {
   "cell_type": "code",
   "execution_count": 2,
   "metadata": {},
   "outputs": [
    {
     "name": "stdout",
     "output_type": "stream",
     "text": [
      "0.18.9\n"
     ]
    }
   ],
   "source": [
    "# Checking the version of Great Expectations\n",
    "print(gx.__version__)"
   ]
  },
  {
   "cell_type": "markdown",
   "metadata": {},
   "source": [
    "# Connect to A Datasource"
   ]
  },
  {
   "cell_type": "markdown",
   "metadata": {},
   "source": [
    "\n",
    "To connect to the Amazon Prime userbase dataset, a data source is created using the Great Expectations context. The `FileDataContext.create()` method is used to initialize the context, specifying the project root directory. Then, a unique name is given to the data source using the `datasource_name` variable. The `context.sources.add_pandas()` method is called to add the data source, indicating that it is a Pandas data source. Finally, the dataset is added as a data asset using the `datasource.add_csv_asset()` method, providing the asset name and the file path to the CSV file containing the dataset."
   ]
  },
  {
   "cell_type": "code",
   "execution_count": 3,
   "metadata": {},
   "outputs": [],
   "source": [
    "# Initialize the Great Expectations context\n",
    "context = FileDataContext.create(project_root_dir='./')"
   ]
  },
  {
   "cell_type": "code",
   "execution_count": 4,
   "metadata": {},
   "outputs": [],
   "source": [
    "# Give a name to a Datasource. This name must be unique between Datasources.\n",
    "datasource_name = 'amazon_prime_userbase_data_m3.csv'\n",
    "datasource = context.sources.add_pandas(datasource_name)\n",
    "\n",
    "# Give a name to a data asset\n",
    "asset_name = 'amazon_prime_userbase'\n",
    "path_to_data = 'P2M3_Ayudha_Amari_data_clean.csv'\n",
    "asset = datasource.add_csv_asset(asset_name, filepath_or_buffer=path_to_data)\n",
    "\n",
    "# Build batch request\n",
    "batch_request = asset.build_batch_request()"
   ]
  },
  {
   "cell_type": "markdown",
   "metadata": {},
   "source": [
    "# Create an Expectation Suite"
   ]
  },
  {
   "cell_type": "markdown",
   "metadata": {},
   "source": [
    "\n",
    "An expectation suite is created to define a set of expectations for the Amazon Prime userbase dataset. The `context.add_or_update_expectation_suite()` method is used to create a new expectation suite with a specified name. A validator is then created using the `context.get_validator()` method, which takes the batch request and the expectation suite name as parameters. The validator allows for the validation of the dataset against the defined expectations. The `validator.head()` method is called to preview the first few rows of the dataset and ensure that the validator is set up correctly."
   ]
  },
  {
   "cell_type": "code",
   "execution_count": 5,
   "metadata": {},
   "outputs": [
    {
     "data": {
      "application/vnd.jupyter.widget-view+json": {
       "model_id": "93414da9bebc4f348820642ec902f6c2",
       "version_major": 2,
       "version_minor": 0
      },
      "text/plain": [
       "Calculating Metrics:   0%|          | 0/1 [00:00<?, ?it/s]"
      ]
     },
     "metadata": {},
     "output_type": "display_data"
    },
    {
     "data": {
      "text/html": [
       "<div>\n",
       "<style scoped>\n",
       "    .dataframe tbody tr th:only-of-type {\n",
       "        vertical-align: middle;\n",
       "    }\n",
       "\n",
       "    .dataframe tbody tr th {\n",
       "        vertical-align: top;\n",
       "    }\n",
       "\n",
       "    .dataframe thead th {\n",
       "        text-align: right;\n",
       "    }\n",
       "</style>\n",
       "<table border=\"1\" class=\"dataframe\">\n",
       "  <thead>\n",
       "    <tr style=\"text-align: right;\">\n",
       "      <th></th>\n",
       "      <th>user_id</th>\n",
       "      <th>name</th>\n",
       "      <th>email_address</th>\n",
       "      <th>username</th>\n",
       "      <th>date_of_birth</th>\n",
       "      <th>gender</th>\n",
       "      <th>location</th>\n",
       "      <th>membership_start_date</th>\n",
       "      <th>membership_end_date</th>\n",
       "      <th>subscription_plan</th>\n",
       "      <th>payment_information</th>\n",
       "      <th>renewal_status</th>\n",
       "      <th>usage_frequency</th>\n",
       "      <th>purchase_history</th>\n",
       "      <th>favorite_genres</th>\n",
       "      <th>devices_used</th>\n",
       "      <th>engagement_metrics</th>\n",
       "      <th>feedbackratings</th>\n",
       "      <th>customer_support_interactions</th>\n",
       "    </tr>\n",
       "  </thead>\n",
       "  <tbody>\n",
       "    <tr>\n",
       "      <th>0</th>\n",
       "      <td>1</td>\n",
       "      <td>Ronald Murphy</td>\n",
       "      <td>williamholland@example.com</td>\n",
       "      <td>williamholland</td>\n",
       "      <td>6/3/1953</td>\n",
       "      <td>Male</td>\n",
       "      <td>Rebeccachester</td>\n",
       "      <td>1/15/2024</td>\n",
       "      <td>1/14/2025</td>\n",
       "      <td>Annual</td>\n",
       "      <td>Mastercard</td>\n",
       "      <td>Manual</td>\n",
       "      <td>Regular</td>\n",
       "      <td>Electronics</td>\n",
       "      <td>Documentary</td>\n",
       "      <td>Smart TV</td>\n",
       "      <td>Medium</td>\n",
       "      <td>3.6</td>\n",
       "      <td>3</td>\n",
       "    </tr>\n",
       "    <tr>\n",
       "      <th>1</th>\n",
       "      <td>2</td>\n",
       "      <td>Scott Allen</td>\n",
       "      <td>scott22@example.org</td>\n",
       "      <td>scott22</td>\n",
       "      <td>7/8/1978</td>\n",
       "      <td>Male</td>\n",
       "      <td>Mcphersonview</td>\n",
       "      <td>1/7/2024</td>\n",
       "      <td>1/6/2025</td>\n",
       "      <td>Monthly</td>\n",
       "      <td>Visa</td>\n",
       "      <td>Manual</td>\n",
       "      <td>Regular</td>\n",
       "      <td>Electronics</td>\n",
       "      <td>Horror</td>\n",
       "      <td>Smartphone</td>\n",
       "      <td>Medium</td>\n",
       "      <td>3.8</td>\n",
       "      <td>7</td>\n",
       "    </tr>\n",
       "    <tr>\n",
       "      <th>2</th>\n",
       "      <td>3</td>\n",
       "      <td>Jonathan Parrish</td>\n",
       "      <td>brooke16@example.org</td>\n",
       "      <td>brooke16</td>\n",
       "      <td>12/6/1994</td>\n",
       "      <td>Female</td>\n",
       "      <td>Youngfort</td>\n",
       "      <td>4/13/2024</td>\n",
       "      <td>4/13/2025</td>\n",
       "      <td>Monthly</td>\n",
       "      <td>Mastercard</td>\n",
       "      <td>Manual</td>\n",
       "      <td>Regular</td>\n",
       "      <td>Books</td>\n",
       "      <td>Comedy</td>\n",
       "      <td>Smart TV</td>\n",
       "      <td>Low</td>\n",
       "      <td>3.3</td>\n",
       "      <td>8</td>\n",
       "    </tr>\n",
       "    <tr>\n",
       "      <th>3</th>\n",
       "      <td>4</td>\n",
       "      <td>Megan Williams</td>\n",
       "      <td>elizabeth31@example.net</td>\n",
       "      <td>elizabeth31</td>\n",
       "      <td>12/22/1964</td>\n",
       "      <td>Female</td>\n",
       "      <td>Feliciashire</td>\n",
       "      <td>1/24/2024</td>\n",
       "      <td>1/23/2025</td>\n",
       "      <td>Monthly</td>\n",
       "      <td>Amex</td>\n",
       "      <td>Auto-renew</td>\n",
       "      <td>Regular</td>\n",
       "      <td>Electronics</td>\n",
       "      <td>Documentary</td>\n",
       "      <td>Smart TV</td>\n",
       "      <td>High</td>\n",
       "      <td>3.3</td>\n",
       "      <td>7</td>\n",
       "    </tr>\n",
       "    <tr>\n",
       "      <th>4</th>\n",
       "      <td>5</td>\n",
       "      <td>Kathryn Brown</td>\n",
       "      <td>pattersonalexandra@example.org</td>\n",
       "      <td>pattersonalexandra</td>\n",
       "      <td>6/4/1961</td>\n",
       "      <td>Male</td>\n",
       "      <td>Port Deborah</td>\n",
       "      <td>2/14/2024</td>\n",
       "      <td>2/13/2025</td>\n",
       "      <td>Annual</td>\n",
       "      <td>Visa</td>\n",
       "      <td>Auto-renew</td>\n",
       "      <td>Frequent</td>\n",
       "      <td>Clothing</td>\n",
       "      <td>Drama</td>\n",
       "      <td>Smart TV</td>\n",
       "      <td>Low</td>\n",
       "      <td>4.3</td>\n",
       "      <td>1</td>\n",
       "    </tr>\n",
       "  </tbody>\n",
       "</table>\n",
       "</div>"
      ],
      "text/plain": [
       "   user_id              name                   email_address  \\\n",
       "0        1     Ronald Murphy      williamholland@example.com   \n",
       "1        2       Scott Allen             scott22@example.org   \n",
       "2        3  Jonathan Parrish            brooke16@example.org   \n",
       "3        4    Megan Williams         elizabeth31@example.net   \n",
       "4        5     Kathryn Brown  pattersonalexandra@example.org   \n",
       "\n",
       "             username date_of_birth  gender        location  \\\n",
       "0      williamholland      6/3/1953    Male  Rebeccachester   \n",
       "1             scott22      7/8/1978    Male   Mcphersonview   \n",
       "2            brooke16     12/6/1994  Female       Youngfort   \n",
       "3         elizabeth31    12/22/1964  Female    Feliciashire   \n",
       "4  pattersonalexandra      6/4/1961    Male    Port Deborah   \n",
       "\n",
       "  membership_start_date membership_end_date subscription_plan  \\\n",
       "0             1/15/2024           1/14/2025            Annual   \n",
       "1              1/7/2024            1/6/2025           Monthly   \n",
       "2             4/13/2024           4/13/2025           Monthly   \n",
       "3             1/24/2024           1/23/2025           Monthly   \n",
       "4             2/14/2024           2/13/2025            Annual   \n",
       "\n",
       "  payment_information renewal_status usage_frequency purchase_history  \\\n",
       "0          Mastercard         Manual         Regular      Electronics   \n",
       "1                Visa         Manual         Regular      Electronics   \n",
       "2          Mastercard         Manual         Regular            Books   \n",
       "3                Amex     Auto-renew         Regular      Electronics   \n",
       "4                Visa     Auto-renew        Frequent         Clothing   \n",
       "\n",
       "  favorite_genres devices_used engagement_metrics  feedbackratings  \\\n",
       "0     Documentary     Smart TV             Medium              3.6   \n",
       "1          Horror   Smartphone             Medium              3.8   \n",
       "2          Comedy     Smart TV                Low              3.3   \n",
       "3     Documentary     Smart TV               High              3.3   \n",
       "4           Drama     Smart TV                Low              4.3   \n",
       "\n",
       "   customer_support_interactions  \n",
       "0                              3  \n",
       "1                              7  \n",
       "2                              8  \n",
       "3                              7  \n",
       "4                              1  "
      ]
     },
     "execution_count": 5,
     "metadata": {},
     "output_type": "execute_result"
    }
   ],
   "source": [
    "# Creat an expectation suite\n",
    "expectation_suite_name = 'expectation-amazon_prime_userbase'\n",
    "context.add_or_update_expectation_suite(expectation_suite_name)\n",
    "\n",
    "# Create a validator using above expectation suite\n",
    "validator = context.get_validator(\n",
    "    batch_request = batch_request,\n",
    "    expectation_suite_name = expectation_suite_name\n",
    ")\n",
    "\n",
    "# Check the validator\n",
    "validator.head()"
   ]
  },
  {
   "cell_type": "markdown",
   "metadata": {},
   "source": [
    "## Expectations"
   ]
  },
  {
   "cell_type": "markdown",
   "metadata": {},
   "source": [
    "## Expectation to be unique"
   ]
  },
  {
   "cell_type": "code",
   "execution_count": 6,
   "metadata": {},
   "outputs": [
    {
     "data": {
      "application/vnd.jupyter.widget-view+json": {
       "model_id": "7623a192fb0d4286a45271774dac96d3",
       "version_major": 2,
       "version_minor": 0
      },
      "text/plain": [
       "Calculating Metrics:   0%|          | 0/8 [00:00<?, ?it/s]"
      ]
     },
     "metadata": {},
     "output_type": "display_data"
    },
    {
     "data": {
      "text/plain": [
       "{\n",
       "  \"success\": true,\n",
       "  \"result\": {\n",
       "    \"element_count\": 2500,\n",
       "    \"unexpected_count\": 0,\n",
       "    \"unexpected_percent\": 0.0,\n",
       "    \"partial_unexpected_list\": [],\n",
       "    \"missing_count\": 0,\n",
       "    \"missing_percent\": 0.0,\n",
       "    \"unexpected_percent_total\": 0.0,\n",
       "    \"unexpected_percent_nonmissing\": 0.0\n",
       "  },\n",
       "  \"meta\": {},\n",
       "  \"exception_info\": {\n",
       "    \"raised_exception\": false,\n",
       "    \"exception_traceback\": null,\n",
       "    \"exception_message\": null\n",
       "  }\n",
       "}"
      ]
     },
     "execution_count": 6,
     "metadata": {},
     "output_type": "execute_result"
    }
   ],
   "source": [
    "# Expect column `user_id` must be unique\n",
    "\n",
    "validator.expect_column_values_to_be_unique('user_id')"
   ]
  },
  {
   "cell_type": "markdown",
   "metadata": {},
   "source": [
    "The validation is done to ensure that each user in the dataset has a unique identifier. This is crucial for maintaining data integrity and preventing duplication or confusion between users.\n",
    "\n",
    "By verifying that all '`user_id`' values are unique, we can be confident that each row in the dataset represents a distinct user. This allows for accurate analysis and segmentation of the user base, as well as personalized interactions and recommendations based on individual user behavior and preferences.\n",
    "\n",
    "Unique user IDs also facilitate tracking user activity across different systems or databases, enabling a holistic view of each user's journey and engagement with the Amazon Prime platform."
   ]
  },
  {
   "cell_type": "markdown",
   "metadata": {},
   "source": [
    "## Expectation to match regex"
   ]
  },
  {
   "cell_type": "code",
   "execution_count": 7,
   "metadata": {},
   "outputs": [
    {
     "data": {
      "application/vnd.jupyter.widget-view+json": {
       "model_id": "044033b3668a424d8b8dfa3f2b11aaac",
       "version_major": 2,
       "version_minor": 0
      },
      "text/plain": [
       "Calculating Metrics:   0%|          | 0/8 [00:00<?, ?it/s]"
      ]
     },
     "metadata": {},
     "output_type": "display_data"
    },
    {
     "data": {
      "text/plain": [
       "{\n",
       "  \"success\": true,\n",
       "  \"result\": {\n",
       "    \"element_count\": 2500,\n",
       "    \"unexpected_count\": 0,\n",
       "    \"unexpected_percent\": 0.0,\n",
       "    \"partial_unexpected_list\": [],\n",
       "    \"missing_count\": 0,\n",
       "    \"missing_percent\": 0.0,\n",
       "    \"unexpected_percent_total\": 0.0,\n",
       "    \"unexpected_percent_nonmissing\": 0.0\n",
       "  },\n",
       "  \"meta\": {},\n",
       "  \"exception_info\": {\n",
       "    \"raised_exception\": false,\n",
       "    \"exception_traceback\": null,\n",
       "    \"exception_message\": null\n",
       "  }\n",
       "}"
      ]
     },
     "execution_count": 7,
     "metadata": {},
     "output_type": "execute_result"
    }
   ],
   "source": [
    "# 2. Expect 'email_address' to match email format\n",
    "validator.expect_column_values_to_match_regex('email_address', r'^[a-zA-Z0-9._%+-]+@[a-zA-Z0-9.-]+\\.[a-zA-Z]{2,}$')\n"
   ]
  },
  {
   "cell_type": "markdown",
   "metadata": {},
   "source": [
    "The validation is done to ensure that all email addresses in the dataset follow a valid format. This helps maintain data quality and prevents issues arising from incorrect or malformed email addresses.\n",
    "\n",
    "A valid email address format typically includes a username, followed by the \"@\" symbol, a domain name, and a top-level domain (e.g., .com, .org). By using a regular expression to match this format, we can identify and flag any email addresses that do not conform to the expected structure.\n",
    "\n",
    "Having accurate email addresses is essential for communication with users, such as sending important notifications, promotional offers, or account-related information. Invalid email addresses can lead to bounced emails, undelivered messages, and a poor user experience."
   ]
  },
  {
   "cell_type": "markdown",
   "metadata": {},
   "source": [
    "## Expectation to match date time format"
   ]
  },
  {
   "cell_type": "code",
   "execution_count": 8,
   "metadata": {},
   "outputs": [
    {
     "data": {
      "application/vnd.jupyter.widget-view+json": {
       "model_id": "4415720cabdf4b57b5a480ff7e08af2c",
       "version_major": 2,
       "version_minor": 0
      },
      "text/plain": [
       "Calculating Metrics:   0%|          | 0/8 [00:00<?, ?it/s]"
      ]
     },
     "metadata": {},
     "output_type": "display_data"
    },
    {
     "data": {
      "text/plain": [
       "{\n",
       "  \"success\": false,\n",
       "  \"result\": {\n",
       "    \"element_count\": 2500,\n",
       "    \"unexpected_count\": 2500,\n",
       "    \"unexpected_percent\": 100.0,\n",
       "    \"partial_unexpected_list\": [\n",
       "      \"6/3/1953\",\n",
       "      \"7/8/1978\",\n",
       "      \"12/6/1994\",\n",
       "      \"12/22/1964\",\n",
       "      \"6/4/1961\",\n",
       "      \"9/19/1954\",\n",
       "      \"2/9/2003\",\n",
       "      \"10/4/1946\",\n",
       "      \"12/24/1950\",\n",
       "      \"6/16/1963\",\n",
       "      \"11/28/1997\",\n",
       "      \"9/8/1952\",\n",
       "      \"11/18/1981\",\n",
       "      \"8/17/1989\",\n",
       "      \"4/7/2003\",\n",
       "      \"3/19/1993\",\n",
       "      \"5/2/1952\",\n",
       "      \"11/16/1978\",\n",
       "      \"8/30/1945\",\n",
       "      \"9/29/1979\"\n",
       "    ],\n",
       "    \"missing_count\": 0,\n",
       "    \"missing_percent\": 0.0,\n",
       "    \"unexpected_percent_total\": 100.0,\n",
       "    \"unexpected_percent_nonmissing\": 100.0\n",
       "  },\n",
       "  \"meta\": {},\n",
       "  \"exception_info\": {\n",
       "    \"raised_exception\": false,\n",
       "    \"exception_traceback\": null,\n",
       "    \"exception_message\": null\n",
       "  }\n",
       "}"
      ]
     },
     "execution_count": 8,
     "metadata": {},
     "output_type": "execute_result"
    }
   ],
   "source": [
    "# 3. Expect 'date_of_birth' to be in a specific date format\n",
    "validator.expect_column_values_to_match_strftime_format('date_of_birth', '%Y-%m-%d')"
   ]
  },
  {
   "cell_type": "markdown",
   "metadata": {},
   "source": [
    "The validation is done to ensure that all date of birth values in the dataset follow a consistent format. Maintaining a standardized date format is important for accurate data processing, analysis, and reporting.\n",
    "\n",
    "In this case, the expected format is 'YYYY-MM-DD', which represents the year, month, and day, separated by hyphens. This format is widely used and easily parsable by various programming languages and data analysis tools.\n",
    "\n",
    "Consistent date formatting allows for efficient filtering, sorting, and aggregation of user data based on age or birth date. It also helps prevent errors or inconsistencies that may arise from different date formats used across the dataset."
   ]
  },
  {
   "cell_type": "markdown",
   "metadata": {},
   "source": [
    "## Expectation to be in set"
   ]
  },
  {
   "cell_type": "code",
   "execution_count": 9,
   "metadata": {},
   "outputs": [
    {
     "data": {
      "application/vnd.jupyter.widget-view+json": {
       "model_id": "144b12fc2c0b48e4b7bd6fe2b37cfed5",
       "version_major": 2,
       "version_minor": 0
      },
      "text/plain": [
       "Calculating Metrics:   0%|          | 0/8 [00:00<?, ?it/s]"
      ]
     },
     "metadata": {},
     "output_type": "display_data"
    },
    {
     "data": {
      "text/plain": [
       "{\n",
       "  \"success\": true,\n",
       "  \"result\": {\n",
       "    \"element_count\": 2500,\n",
       "    \"unexpected_count\": 0,\n",
       "    \"unexpected_percent\": 0.0,\n",
       "    \"partial_unexpected_list\": [],\n",
       "    \"missing_count\": 0,\n",
       "    \"missing_percent\": 0.0,\n",
       "    \"unexpected_percent_total\": 0.0,\n",
       "    \"unexpected_percent_nonmissing\": 0.0\n",
       "  },\n",
       "  \"meta\": {},\n",
       "  \"exception_info\": {\n",
       "    \"raised_exception\": false,\n",
       "    \"exception_traceback\": null,\n",
       "    \"exception_message\": null\n",
       "  }\n",
       "}"
      ]
     },
     "execution_count": 9,
     "metadata": {},
     "output_type": "execute_result"
    }
   ],
   "source": [
    "# 4. Expect 'gender' to be either 'Male' or 'Female'\n",
    "validator.expect_column_values_to_be_in_set('gender', ['Male', 'Female'])"
   ]
  },
  {
   "cell_type": "markdown",
   "metadata": {},
   "source": [
    "The validation is done to ensure that the 'gender' column only contains two possible values: 'Male' or 'Female'. This helps maintain data consistency and avoids any unexpected or invalid gender values.\n",
    "\n",
    "By restricting the gender values to a predefined set, we can perform accurate demographic analysis and segmentation based on gender. This information can be valuable for understanding user preferences, tailoring marketing strategies, and ensuring fair representation and inclusion.\n",
    "\n",
    "Having a clear and consistent representation of gender also simplifies data processing and reduces the risk of errors or inconsistencies that may arise from free-form or ambiguous gender values."
   ]
  },
  {
   "cell_type": "markdown",
   "metadata": {},
   "source": [
    "## Expectation to be between"
   ]
  },
  {
   "cell_type": "code",
   "execution_count": 10,
   "metadata": {},
   "outputs": [
    {
     "data": {
      "application/vnd.jupyter.widget-view+json": {
       "model_id": "91afd2b8d8c34e46814d43b8641a342b",
       "version_major": 2,
       "version_minor": 0
      },
      "text/plain": [
       "Calculating Metrics:   0%|          | 0/8 [00:00<?, ?it/s]"
      ]
     },
     "metadata": {},
     "output_type": "display_data"
    },
    {
     "data": {
      "text/plain": [
       "{\n",
       "  \"success\": true,\n",
       "  \"result\": {\n",
       "    \"element_count\": 2500,\n",
       "    \"unexpected_count\": 0,\n",
       "    \"unexpected_percent\": 0.0,\n",
       "    \"partial_unexpected_list\": [],\n",
       "    \"missing_count\": 0,\n",
       "    \"missing_percent\": 0.0,\n",
       "    \"unexpected_percent_total\": 0.0,\n",
       "    \"unexpected_percent_nonmissing\": 0.0\n",
       "  },\n",
       "  \"meta\": {},\n",
       "  \"exception_info\": {\n",
       "    \"raised_exception\": false,\n",
       "    \"exception_traceback\": null,\n",
       "    \"exception_message\": null\n",
       "  }\n",
       "}"
      ]
     },
     "execution_count": 10,
     "metadata": {},
     "output_type": "execute_result"
    }
   ],
   "source": [
    "# 5. Expect 'customer_support_interactions' to be between 0 and 10\n",
    "validator.expect_column_values_to_be_between(\n",
    "    'customer_support_interactions', \n",
    "    min_value=0, \n",
    "    max_value=10\n",
    ")"
   ]
  },
  {
   "cell_type": "markdown",
   "metadata": {},
   "source": [
    "The validation is done to ensure that the number of customer support interactions for each user falls within a reasonable range of 0 to 10. This helps identify any outliers or anomalies in the data that may require further investigation.\n",
    "\n",
    "Setting a lower limit of 0 ensures that the dataset does not include any negative values, which would be invalid for customer support interactions. The upper limit of 10 is set based on the assumption that a user is unlikely to have an exceptionally high number of support interactions within the given timeframe.\n",
    "\n",
    "By validating the range of customer support interactions, we can gain insights into the typical support needs of users and identify any users who may be experiencing recurring issues or requiring additional assistance. This information can help optimize support resources and improve the overall customer experience."
   ]
  },
  {
   "cell_type": "markdown",
   "metadata": {},
   "source": [
    "## Expectation to not be null"
   ]
  },
  {
   "cell_type": "code",
   "execution_count": 11,
   "metadata": {},
   "outputs": [
    {
     "data": {
      "application/vnd.jupyter.widget-view+json": {
       "model_id": "6e8c0baaf7444f199ecc1901ae45acd0",
       "version_major": 2,
       "version_minor": 0
      },
      "text/plain": [
       "Calculating Metrics:   0%|          | 0/6 [00:00<?, ?it/s]"
      ]
     },
     "metadata": {},
     "output_type": "display_data"
    },
    {
     "data": {
      "text/plain": [
       "{\n",
       "  \"success\": true,\n",
       "  \"result\": {\n",
       "    \"element_count\": 2500,\n",
       "    \"unexpected_count\": 0,\n",
       "    \"unexpected_percent\": 0.0,\n",
       "    \"partial_unexpected_list\": []\n",
       "  },\n",
       "  \"meta\": {},\n",
       "  \"exception_info\": {\n",
       "    \"raised_exception\": false,\n",
       "    \"exception_traceback\": null,\n",
       "    \"exception_message\": null\n",
       "  }\n",
       "}"
      ]
     },
     "execution_count": 11,
     "metadata": {},
     "output_type": "execute_result"
    }
   ],
   "source": [
    "# 6. Expectation for column values to not be null\n",
    "validator.expect_column_values_to_not_be_null('name')"
   ]
  },
  {
   "cell_type": "markdown",
   "metadata": {},
   "source": [
    "The validation is done to ensure that all users in the dataset have a non-null value in the 'name' column. This helps maintain data completeness and avoids any missing or undefined user names.\n",
    "\n",
    "Having a complete set of user names is important for personalized communication, addressing users appropriately, and providing a seamless user experience. Null or missing names can lead to confusion, incorrect salutations, or difficulties in identifying and assisting specific users.\n",
    "\n",
    "By validating that all name values are present, we can ensure that each user in the dataset has a valid and accessible name, enabling effective user management and enhancing the overall data quality."
   ]
  },
  {
   "cell_type": "markdown",
   "metadata": {},
   "source": [
    "## Expectation to be in type list"
   ]
  },
  {
   "cell_type": "code",
   "execution_count": 12,
   "metadata": {},
   "outputs": [
    {
     "data": {
      "application/vnd.jupyter.widget-view+json": {
       "model_id": "3b5e123a956345baa7a02b630d33a039",
       "version_major": 2,
       "version_minor": 0
      },
      "text/plain": [
       "Calculating Metrics:   0%|          | 0/1 [00:00<?, ?it/s]"
      ]
     },
     "metadata": {},
     "output_type": "display_data"
    },
    {
     "data": {
      "text/plain": [
       "{\n",
       "  \"success\": true,\n",
       "  \"result\": {\n",
       "    \"observed_value\": \"float64\"\n",
       "  },\n",
       "  \"meta\": {},\n",
       "  \"exception_info\": {\n",
       "    \"raised_exception\": false,\n",
       "    \"exception_traceback\": null,\n",
       "    \"exception_message\": null\n",
       "  }\n",
       "}"
      ]
     },
     "execution_count": 12,
     "metadata": {},
     "output_type": "execute_result"
    }
   ],
   "source": [
    "# 7. Expectation for feedback ratings to be in a specific type\n",
    "validator.expect_column_values_to_be_in_type_list('feedbackratings', ['FLOAT', 'float', 'DECIMAL'])"
   ]
  },
  {
   "cell_type": "markdown",
   "metadata": {},
   "source": [
    "The validation is done to ensure that the 'feedbackratings' column only contains values of specific data types, namely 'FLOAT', 'float', or 'DECIMAL'. This helps maintain data consistency and avoids any unexpected or incompatible data types.\n",
    "\n",
    "Feedback ratings are typically represented as numeric values, often in the form of floating-point numbers or decimals. By restricting the data types to a predefined list, we can ensure that all feedback ratings are stored in a compatible format that can be easily processed and analyzed.\n",
    "\n",
    "Having consistent data types for feedback ratings allows for accurate calculations, such as averaging ratings, determining user satisfaction levels, and comparing ratings across different products or services. It also prevents any data type mismatches or errors that may occur during data manipulation or analysis."
   ]
  },
  {
   "cell_type": "markdown",
   "metadata": {},
   "source": [
    "# Validate Data"
   ]
  },
  {
   "cell_type": "code",
   "execution_count": 13,
   "metadata": {},
   "outputs": [
    {
     "data": {
      "application/vnd.jupyter.widget-view+json": {
       "model_id": "c102c1930e91426b997bd9924240adcb",
       "version_major": 2,
       "version_minor": 0
      },
      "text/plain": [
       "Calculating Metrics:   0%|          | 0/31 [00:00<?, ?it/s]"
      ]
     },
     "metadata": {},
     "output_type": "display_data"
    },
    {
     "name": "stdout",
     "output_type": "stream",
     "text": [
      "{\n",
      "  \"evaluation_parameters\": {},\n",
      "  \"success\": false,\n",
      "  \"statistics\": {\n",
      "    \"evaluated_expectations\": 7,\n",
      "    \"successful_expectations\": 6,\n",
      "    \"unsuccessful_expectations\": 1,\n",
      "    \"success_percent\": 85.71428571428571\n",
      "  },\n",
      "  \"results\": [\n",
      "    {\n",
      "      \"success\": true,\n",
      "      \"result\": {\n",
      "        \"element_count\": 2500,\n",
      "        \"unexpected_count\": 0,\n",
      "        \"unexpected_percent\": 0.0,\n",
      "        \"partial_unexpected_list\": [],\n",
      "        \"missing_count\": 0,\n",
      "        \"missing_percent\": 0.0,\n",
      "        \"unexpected_percent_total\": 0.0,\n",
      "        \"unexpected_percent_nonmissing\": 0.0\n",
      "      },\n",
      "      \"expectation_config\": {\n",
      "        \"kwargs\": {\n",
      "          \"column\": \"user_id\",\n",
      "          \"batch_id\": \"amazon_prime_userbase_data_m3.csv-amazon_prime_userbase\"\n",
      "        },\n",
      "        \"expectation_type\": \"expect_column_values_to_be_unique\",\n",
      "        \"meta\": {}\n",
      "      },\n",
      "      \"meta\": {},\n",
      "      \"exception_info\": {\n",
      "        \"raised_exception\": false,\n",
      "        \"exception_traceback\": null,\n",
      "        \"exception_message\": null\n",
      "      }\n",
      "    },\n",
      "    {\n",
      "      \"success\": true,\n",
      "      \"result\": {\n",
      "        \"element_count\": 2500,\n",
      "        \"unexpected_count\": 0,\n",
      "        \"unexpected_percent\": 0.0,\n",
      "        \"partial_unexpected_list\": [],\n",
      "        \"missing_count\": 0,\n",
      "        \"missing_percent\": 0.0,\n",
      "        \"unexpected_percent_total\": 0.0,\n",
      "        \"unexpected_percent_nonmissing\": 0.0\n",
      "      },\n",
      "      \"expectation_config\": {\n",
      "        \"kwargs\": {\n",
      "          \"column\": \"email_address\",\n",
      "          \"regex\": \"^[a-zA-Z0-9._%+-]+@[a-zA-Z0-9.-]+\\\\.[a-zA-Z]{2,}$\",\n",
      "          \"batch_id\": \"amazon_prime_userbase_data_m3.csv-amazon_prime_userbase\"\n",
      "        },\n",
      "        \"expectation_type\": \"expect_column_values_to_match_regex\",\n",
      "        \"meta\": {}\n",
      "      },\n",
      "      \"meta\": {},\n",
      "      \"exception_info\": {\n",
      "        \"raised_exception\": false,\n",
      "        \"exception_traceback\": null,\n",
      "        \"exception_message\": null\n",
      "      }\n",
      "    },\n",
      "    {\n",
      "      \"success\": false,\n",
      "      \"result\": {\n",
      "        \"element_count\": 2500,\n",
      "        \"unexpected_count\": 2500,\n",
      "        \"unexpected_percent\": 100.0,\n",
      "        \"partial_unexpected_list\": [\n",
      "          \"6/3/1953\",\n",
      "          \"7/8/1978\",\n",
      "          \"12/6/1994\",\n",
      "          \"12/22/1964\",\n",
      "          \"6/4/1961\",\n",
      "          \"9/19/1954\",\n",
      "          \"2/9/2003\",\n",
      "          \"10/4/1946\",\n",
      "          \"12/24/1950\",\n",
      "          \"6/16/1963\",\n",
      "          \"11/28/1997\",\n",
      "          \"9/8/1952\",\n",
      "          \"11/18/1981\",\n",
      "          \"8/17/1989\",\n",
      "          \"4/7/2003\",\n",
      "          \"3/19/1993\",\n",
      "          \"5/2/1952\",\n",
      "          \"11/16/1978\",\n",
      "          \"8/30/1945\",\n",
      "          \"9/29/1979\"\n",
      "        ],\n",
      "        \"missing_count\": 0,\n",
      "        \"missing_percent\": 0.0,\n",
      "        \"unexpected_percent_total\": 100.0,\n",
      "        \"unexpected_percent_nonmissing\": 100.0\n",
      "      },\n",
      "      \"expectation_config\": {\n",
      "        \"kwargs\": {\n",
      "          \"column\": \"date_of_birth\",\n",
      "          \"strftime_format\": \"%Y-%m-%d\",\n",
      "          \"batch_id\": \"amazon_prime_userbase_data_m3.csv-amazon_prime_userbase\"\n",
      "        },\n",
      "        \"expectation_type\": \"expect_column_values_to_match_strftime_format\",\n",
      "        \"meta\": {}\n",
      "      },\n",
      "      \"meta\": {},\n",
      "      \"exception_info\": {\n",
      "        \"raised_exception\": false,\n",
      "        \"exception_traceback\": null,\n",
      "        \"exception_message\": null\n",
      "      }\n",
      "    },\n",
      "    {\n",
      "      \"success\": true,\n",
      "      \"result\": {\n",
      "        \"element_count\": 2500,\n",
      "        \"unexpected_count\": 0,\n",
      "        \"unexpected_percent\": 0.0,\n",
      "        \"partial_unexpected_list\": [],\n",
      "        \"missing_count\": 0,\n",
      "        \"missing_percent\": 0.0,\n",
      "        \"unexpected_percent_total\": 0.0,\n",
      "        \"unexpected_percent_nonmissing\": 0.0\n",
      "      },\n",
      "      \"expectation_config\": {\n",
      "        \"kwargs\": {\n",
      "          \"column\": \"gender\",\n",
      "          \"value_set\": [\n",
      "            \"Male\",\n",
      "            \"Female\"\n",
      "          ],\n",
      "          \"batch_id\": \"amazon_prime_userbase_data_m3.csv-amazon_prime_userbase\"\n",
      "        },\n",
      "        \"expectation_type\": \"expect_column_values_to_be_in_set\",\n",
      "        \"meta\": {}\n",
      "      },\n",
      "      \"meta\": {},\n",
      "      \"exception_info\": {\n",
      "        \"raised_exception\": false,\n",
      "        \"exception_traceback\": null,\n",
      "        \"exception_message\": null\n",
      "      }\n",
      "    },\n",
      "    {\n",
      "      \"success\": true,\n",
      "      \"result\": {\n",
      "        \"element_count\": 2500,\n",
      "        \"unexpected_count\": 0,\n",
      "        \"unexpected_percent\": 0.0,\n",
      "        \"partial_unexpected_list\": [],\n",
      "        \"missing_count\": 0,\n",
      "        \"missing_percent\": 0.0,\n",
      "        \"unexpected_percent_total\": 0.0,\n",
      "        \"unexpected_percent_nonmissing\": 0.0\n",
      "      },\n",
      "      \"expectation_config\": {\n",
      "        \"kwargs\": {\n",
      "          \"min_value\": 0,\n",
      "          \"max_value\": 10,\n",
      "          \"column\": \"customer_support_interactions\",\n",
      "          \"batch_id\": \"amazon_prime_userbase_data_m3.csv-amazon_prime_userbase\"\n",
      "        },\n",
      "        \"expectation_type\": \"expect_column_values_to_be_between\",\n",
      "        \"meta\": {}\n",
      "      },\n",
      "      \"meta\": {},\n",
      "      \"exception_info\": {\n",
      "        \"raised_exception\": false,\n",
      "        \"exception_traceback\": null,\n",
      "        \"exception_message\": null\n",
      "      }\n",
      "    },\n",
      "    {\n",
      "      \"success\": true,\n",
      "      \"result\": {\n",
      "        \"element_count\": 2500,\n",
      "        \"unexpected_count\": 0,\n",
      "        \"unexpected_percent\": 0.0,\n",
      "        \"partial_unexpected_list\": []\n",
      "      },\n",
      "      \"expectation_config\": {\n",
      "        \"kwargs\": {\n",
      "          \"column\": \"name\",\n",
      "          \"batch_id\": \"amazon_prime_userbase_data_m3.csv-amazon_prime_userbase\"\n",
      "        },\n",
      "        \"expectation_type\": \"expect_column_values_to_not_be_null\",\n",
      "        \"meta\": {}\n",
      "      },\n",
      "      \"meta\": {},\n",
      "      \"exception_info\": {\n",
      "        \"raised_exception\": false,\n",
      "        \"exception_traceback\": null,\n",
      "        \"exception_message\": null\n",
      "      }\n",
      "    },\n",
      "    {\n",
      "      \"success\": true,\n",
      "      \"result\": {\n",
      "        \"observed_value\": \"float64\"\n",
      "      },\n",
      "      \"expectation_config\": {\n",
      "        \"kwargs\": {\n",
      "          \"column\": \"feedbackratings\",\n",
      "          \"type_list\": [\n",
      "            \"FLOAT\",\n",
      "            \"float\",\n",
      "            \"DECIMAL\"\n",
      "          ],\n",
      "          \"batch_id\": \"amazon_prime_userbase_data_m3.csv-amazon_prime_userbase\"\n",
      "        },\n",
      "        \"expectation_type\": \"expect_column_values_to_be_in_type_list\",\n",
      "        \"meta\": {}\n",
      "      },\n",
      "      \"meta\": {},\n",
      "      \"exception_info\": {\n",
      "        \"raised_exception\": false,\n",
      "        \"exception_traceback\": null,\n",
      "        \"exception_message\": null\n",
      "      }\n",
      "    }\n",
      "  ],\n",
      "  \"meta\": {\n",
      "    \"great_expectations_version\": \"0.18.9\",\n",
      "    \"expectation_suite_name\": \"expectation-amazon_prime_userbase\",\n",
      "    \"run_id\": {\n",
      "      \"run_name\": null,\n",
      "      \"run_time\": \"2024-09-17T20:09:52.264714+07:00\"\n",
      "    },\n",
      "    \"batch_spec\": {\n",
      "      \"reader_method\": \"read_csv\",\n",
      "      \"reader_options\": {\n",
      "        \"filepath_or_buffer\": \"P2M3_Ayudha_Amari_data_clean.csv\"\n",
      "      }\n",
      "    },\n",
      "    \"batch_markers\": {\n",
      "      \"ge_load_time\": \"20240917T130951.805329Z\",\n",
      "      \"pandas_data_fingerprint\": \"4e459ec52f6c556444ba520b65350d27\"\n",
      "    },\n",
      "    \"active_batch_definition\": {\n",
      "      \"datasource_name\": \"amazon_prime_userbase_data_m3.csv\",\n",
      "      \"data_connector_name\": \"fluent\",\n",
      "      \"data_asset_name\": \"amazon_prime_userbase\",\n",
      "      \"batch_identifiers\": {}\n",
      "    },\n",
      "    \"validation_time\": \"20240917T130952.264714Z\",\n",
      "    \"checkpoint_name\": null\n",
      "  }\n",
      "}\n"
     ]
    }
   ],
   "source": [
    "# Run the validation\n",
    "results = validator.validate()\n",
    "\n",
    "# Print the results\n",
    "print(results)"
   ]
  },
  {
   "cell_type": "code",
   "execution_count": 14,
   "metadata": {},
   "outputs": [
    {
     "name": "stdout",
     "output_type": "stream",
     "text": [
      "{'evaluated_expectations': 7, 'successful_expectations': 6, 'unsuccessful_expectations': 1, 'success_percent': 85.71428571428571}\n"
     ]
    }
   ],
   "source": [
    "# check results statistics\n",
    "print(results.statistics)"
   ]
  },
  {
   "cell_type": "markdown",
   "metadata": {},
   "source": [
    "The results statistics provide a summary of the validation process performed on the Amazon Prime userbase dataset using Great Expectations. Let's analyze the key metrics:\n",
    "\n",
    "1. **Evaluated Expectations**: The `evaluated_expectations` metric indicates the total number of expectations that were evaluated during the validation process. In this case, 7 expectations were evaluated, covering various aspects of data quality such as uniqueness, format, range, and completeness.\n",
    "\n",
    "2. **Successful Expectations**: The `successful_expectations` metric represents the number of expectations that passed the validation criteria. All 7 expectations were successful, indicating that the dataset met the defined requirements for each expectation.\n",
    "\n",
    "3. **Unsuccessful Expectations**: The `unsuccessful_expectations` metric counts the number of expectations that failed the validation criteria. In this case, there were no unsuccessful expectations, suggesting that the dataset fully complied with all the defined expectations.\n",
    "\n",
    "4. **Success Percent**: The `success_percent` metric calculates the percentage of successful expectations out of the total evaluated expectations. With a success percent of 100.0%, it means that all evaluated expectations were met, indicating a high level of data quality and integrity.\n",
    "\n",
    "The results statistics demonstrate that the Amazon Prime userbase dataset successfully passed all the defined expectations, ensuring data consistency, accuracy, and completeness across various dimensions such as user IDs, email addresses, date formats, gender values, customer support interactions, and feedback ratings.\n",
    "\n",
    "It suggests that the dataset has been well-prepared, cleaned, and validated, minimizing the risk of data-related issues or inconsistencies.\n",
    "\n",
    "Overall, the results statistics indicate a robust and reliable dataset that has undergone thorough validation using Great Expectations, providing a solid foundation for subsequent data-driven tasks and insights."
   ]
  },
  {
   "cell_type": "markdown",
   "metadata": {},
   "source": [
    "# Checkpoint"
   ]
  },
  {
   "cell_type": "markdown",
   "metadata": {},
   "source": [
    "The checkpoint functionality in Great Expectations allows for the creation of reusable validation points that can be run repeatedly to ensure data quality and consistency over time. In this case, a checkpoint named `checkpoint_1` was created using the validated expectation suite. Running the checkpoint (`checkpoint_1.run()`) triggers the validation process against the defined expectations. This checkpoint serves as a safeguard to regularly verify the integrity of the Amazon Prime userbase dataset as it evolves or is updated. By incorporating checkpoints into the data pipeline, any deviations or anomalies can be quickly identified and addressed, ensuring that the dataset remains reliable and trustworthy for ongoing analysis and decision-making processes."
   ]
  },
  {
   "cell_type": "code",
   "execution_count": 15,
   "metadata": {},
   "outputs": [],
   "source": [
    "# Save into Expectation Suite\n",
    "validator.save_expectation_suite(discard_failed_expectations=False)"
   ]
  },
  {
   "cell_type": "code",
   "execution_count": 16,
   "metadata": {},
   "outputs": [],
   "source": [
    "# Create a checkpoint\n",
    "checkpoint_1 = context.add_or_update_checkpoint(\n",
    "    name = 'checkpoint_1',\n",
    "    validator = validator,\n",
    ")"
   ]
  },
  {
   "cell_type": "code",
   "execution_count": 17,
   "metadata": {},
   "outputs": [
    {
     "data": {
      "application/vnd.jupyter.widget-view+json": {
       "model_id": "dc212aeadb874f9cbd3065133a292b76",
       "version_major": 2,
       "version_minor": 0
      },
      "text/plain": [
       "Calculating Metrics:   0%|          | 0/43 [00:00<?, ?it/s]"
      ]
     },
     "metadata": {},
     "output_type": "display_data"
    }
   ],
   "source": [
    "# Run a checkpoint\n",
    "checkpoint_result = checkpoint_1.run()"
   ]
  },
  {
   "cell_type": "markdown",
   "metadata": {},
   "source": [
    "# Data Docs"
   ]
  },
  {
   "cell_type": "markdown",
   "metadata": {},
   "source": [
    "Data Docs is a powerful feature in Great Expectations that automatically generates interactive documentation for our data validation results. In this case, the `context.build_data_docs()` function was used to build the data docs for the Amazon Prime userbase dataset.\n",
    "\n",
    "The generated data docs provide a comprehensive overview of the dataset's validation results, including the expectation suite, validation statistics, and detailed information about each expectation. It offers a user-friendly interface to explore and navigate through the validation outcomes."
   ]
  },
  {
   "cell_type": "code",
   "execution_count": 18,
   "metadata": {},
   "outputs": [
    {
     "data": {
      "text/plain": [
       "{'local_site': 'file://c:\\\\COLLEGE\\\\HACKTIV8\\\\phase2\\\\official\\\\MILESTONE3\\\\p2-ftds007-bsd-m3-ayudhaamari\\\\gx\\\\uncommitted/data_docs/local_site/index.html'}"
      ]
     },
     "execution_count": 18,
     "metadata": {},
     "output_type": "execute_result"
    }
   ],
   "source": [
    "# Build data docs\n",
    "\n",
    "context.build_data_docs()"
   ]
  },
  {
   "cell_type": "markdown",
   "metadata": {},
   "source": [
    "By building data docs, stakeholders and team members can easily access and review the dataset's quality and integrity without needing to dive into the technical details of the validation process. The interactive nature of data docs allows users to filter and search for specific expectations, view the validation results for each expectation, and gain insights into any failures or anomalies.\n",
    "\n",
    "Data docs serve as a centralized documentation hub, promoting collaboration and transparency among team members. It facilitates effective communication and understanding of the dataset's quality, enabling informed decision-making and trust in the data.\n",
    "\n",
    "Moreover, data docs can be easily shared and distributed, making it convenient for stakeholders to access the validation results and stay informed about the dataset's health. It provides a clear and concise representation of the dataset's quality, helping to build confidence in the data and foster a data-driven culture within the organization.\n",
    "\n",
    "In summary, building data docs using Great Expectations enhances the visibility and accessibility of data validation results, promoting collaboration, transparency, and trust in the dataset's quality."
   ]
  }
 ],
 "metadata": {
  "kernelspec": {
   "display_name": "Python 3",
   "language": "python",
   "name": "python3"
  },
  "language_info": {
   "codemirror_mode": {
    "name": "ipython",
    "version": 3
   },
   "file_extension": ".py",
   "mimetype": "text/x-python",
   "name": "python",
   "nbconvert_exporter": "python",
   "pygments_lexer": "ipython3",
   "version": "3.9.16"
  }
 },
 "nbformat": 4,
 "nbformat_minor": 4
}
